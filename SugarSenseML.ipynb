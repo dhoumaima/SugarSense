{
  "nbformat": 4,
  "nbformat_minor": 0,
  "metadata": {
    "colab": {
      "provenance": [],
      "authorship_tag": "ABX9TyNWAkwDm9U9EtRkR7iVF4+P",
      "include_colab_link": true
    },
    "kernelspec": {
      "name": "python3",
      "display_name": "Python 3"
    },
    "language_info": {
      "name": "python"
    }
  },
  "cells": [
    {
      "cell_type": "markdown",
      "metadata": {
        "id": "view-in-github",
        "colab_type": "text"
      },
      "source": [
        "<a href=\"https://colab.research.google.com/github/dhoumaima/SugarSense/blob/master/SugarSenseML.ipynb\" target=\"_parent\"><img src=\"https://colab.research.google.com/assets/colab-badge.svg\" alt=\"Open In Colab\"/></a>"
      ]
    },
    {
      "cell_type": "markdown",
      "source": [
        "#installer pyspark"
      ],
      "metadata": {
        "id": "D7EV_OGHIlX9"
      }
    },
    {
      "cell_type": "code",
      "execution_count": null,
      "metadata": {
        "colab": {
          "base_uri": "https://localhost:8080/"
        },
        "id": "ebGYZZP0qH51",
        "outputId": "16eccc52-b42b-49ea-ec5c-9e40da7b1f7f"
      },
      "outputs": [
        {
          "output_type": "stream",
          "name": "stdout",
          "text": [
            "Requirement already satisfied: pyspark in /usr/local/lib/python3.10/dist-packages (3.5.3)\n",
            "Requirement already satisfied: py4j==0.10.9.7 in /usr/local/lib/python3.10/dist-packages (from pyspark) (0.10.9.7)\n"
          ]
        }
      ],
      "source": [
        "!pip install pyspark"
      ]
    },
    {
      "cell_type": "markdown",
      "source": [
        "#Initialisation d'une session Spark pour la prédiction du diabète"
      ],
      "metadata": {
        "id": "Emf4zgVkIqRT"
      }
    },
    {
      "cell_type": "code",
      "source": [
        "from pyspark.sql import SparkSession\n",
        "\n",
        "spark = SparkSession.builder.appName(\"DiabetesPrediction\").getOrCreate()\n"
      ],
      "metadata": {
        "id": "8Tzi5fnBqMAI"
      },
      "execution_count": 1,
      "outputs": []
    },
    {
      "cell_type": "markdown",
      "source": [
        "#Chargement et exploration des données de diabète avec PySpark"
      ],
      "metadata": {
        "id": "KjFdauGQJJ1D"
      }
    },
    {
      "cell_type": "code",
      "source": [
        "from google.colab import drive\n",
        "drive.mount('/content/drive')\n"
      ],
      "metadata": {
        "colab": {
          "base_uri": "https://localhost:8080/"
        },
        "id": "ecxEvLeuqTiE",
        "outputId": "09bca676-86d9-4698-f6af-e7490e680593"
      },
      "execution_count": 2,
      "outputs": [
        {
          "output_type": "stream",
          "name": "stdout",
          "text": [
            "Mounted at /content/drive\n"
          ]
        }
      ]
    },
    {
      "cell_type": "code",
      "source": [
        "file_path = \"/content/drive/MyDrive/diabetes.csv\"\n",
        "\n",
        "# Charger les données dans un DataFrame\n",
        "df = spark.read.csv(file_path, header=True, inferSchema=True)\n",
        "df.groupBy(\"Outcome\").count().show()\n"
      ],
      "metadata": {
        "colab": {
          "base_uri": "https://localhost:8080/"
        },
        "id": "bjY31KgiqXDo",
        "outputId": "a6d0f8d8-27a9-4eaa-9944-86dafc33bab1"
      },
      "execution_count": 3,
      "outputs": [
        {
          "output_type": "stream",
          "name": "stdout",
          "text": [
            "+-------+-----+\n",
            "|Outcome|count|\n",
            "+-------+-----+\n",
            "|      1|  268|\n",
            "|      0|  500|\n",
            "+-------+-----+\n",
            "\n"
          ]
        }
      ]
    },
    {
      "cell_type": "markdown",
      "source": [
        "#Extraction et sauvegarde d'un échantillon de 20% des données avec PySpark\n",
        "pour la partie de validation"
      ],
      "metadata": {
        "id": "l9P_X5ycJQ68"
      }
    },
    {
      "cell_type": "code",
      "source": [
        "from pyspark.sql import SparkSession\n",
        "\n",
        "# Créer une session Spark\n",
        "spark = SparkSession.builder.appName(\"Save20Percent\").getOrCreate()\n",
        "\n",
        "# Charger le fichier CSV\n",
        "data = spark.read.csv(\"/content/drive/MyDrive/diabetes.csv\", header=True, inferSchema=True)\n",
        "\n",
        "# Diviser les données pour prendre 20%\n",
        "df1, sample_data = data.randomSplit([0.8, 0.2], seed=1234)\n",
        "\n",
        "# Sauvegarder ces 20% dans un fichier CSV dans Google Drive\n",
        "sample_data.write.csv(\"/content/drive/MyDrive/diabetes_sample_20.csv\", header=True, mode=\"overwrite\")\n",
        "df1.write.csv(\"/content/drive/MyDrive/diabetes_sample_80.csv\", header=True, mode=\"overwrite\")\n",
        "# Afficher les premières lignes pour vérifier\n",
        "sample_data.show(5)\n"
      ],
      "metadata": {
        "colab": {
          "base_uri": "https://localhost:8080/"
        },
        "id": "IXEEbsBCqopW",
        "outputId": "31f6490c-05c0-47e3-bc14-763ede928239"
      },
      "execution_count": 4,
      "outputs": [
        {
          "output_type": "stream",
          "name": "stdout",
          "text": [
            "+-----------+-------+-------------+-------------+-------+----+------------------------+---+-------+\n",
            "|Pregnancies|Glucose|BloodPressure|SkinThickness|Insulin| BMI|DiabetesPedigreeFunction|Age|Outcome|\n",
            "+-----------+-------+-------------+-------------+-------+----+------------------------+---+-------+\n",
            "|          0|     67|           76|            0|      0|45.3|                   0.194| 46|      0|\n",
            "|          0|     78|           88|           29|     40|36.9|                   0.434| 21|      0|\n",
            "|          0|    100|           70|           26|     50|30.8|                   0.597| 21|      0|\n",
            "|          0|    101|           64|           17|      0|21.0|                   0.252| 21|      0|\n",
            "|          0|    101|           65|           28|      0|24.6|                   0.237| 22|      0|\n",
            "+-----------+-------+-------------+-------------+-------+----+------------------------+---+-------+\n",
            "only showing top 5 rows\n",
            "\n"
          ]
        }
      ]
    },
    {
      "cell_type": "markdown",
      "source": [
        "#Classification du diabète à l'aide d'un arbre de décision avec PySpark"
      ],
      "metadata": {
        "id": "KxXQyBG9LM7b"
      }
    },
    {
      "cell_type": "code",
      "source": [
        "from pyspark.sql import SparkSession\n",
        "from pyspark.ml.feature import VectorAssembler\n",
        "from pyspark.ml.classification import DecisionTreeClassifier\n",
        "from pyspark.ml.evaluation import BinaryClassificationEvaluator\n",
        "from pyspark.ml import Pipeline\n",
        "\n",
        "# Créer une session Spark\n",
        "spark = SparkSession.builder.appName(\"DecisionTreeDiabetes\").getOrCreate()\n",
        "\n",
        "# Charger le fichier CSV\n",
        "data = spark.read.csv(\"/content/drive/MyDrive/diabetes_sample_80.csv\", header=True, inferSchema=True)\n",
        "\n",
        "# Afficher les premières lignes du DataFrame pour vérifier les données\n",
        "data.show(5)\n",
        "\n",
        "# Liste des colonnes à utiliser comme caractéristiques\n",
        "feature_columns = [\"Pregnancies\", \"Glucose\", \"BloodPressure\", \"SkinThickness\", \"Insulin\", \"BMI\",\n",
        "                   \"DiabetesPedigreeFunction\", \"Age\"]\n",
        "\n",
        "assembler = VectorAssembler(inputCols=feature_columns, outputCol=\"features\")\n",
        "\n",
        "# Définir l'arbre de décision\n",
        "dt = DecisionTreeClassifier(labelCol=\"Outcome\", featuresCol=\"features\", predictionCol=\"prediction\")\n",
        "\n",
        "# Construire le pipeline\n",
        "pipeline = Pipeline(stages=[assembler, dt])\n",
        "\n",
        "# Diviser les données en ensemble d'entraînement et de test\n",
        "train_data, test_data = data.randomSplit([0.8, 0.2], seed=1234)\n",
        "\n",
        "# Entraîner le modèle\n",
        "model = pipeline.fit(train_data)\n",
        "\n",
        "# Appliquer les prédictions sur les données de test\n",
        "predictions = model.transform(test_data)\n",
        "\n",
        "# Afficher les résultats de prédiction\n",
        "predictions.select(\"prediction\", \"Outcome\", \"features\").show(5)\n",
        "\n",
        "# Évaluation du modèle avec AUC\n",
        "evaluator = BinaryClassificationEvaluator(labelCol=\"Outcome\", rawPredictionCol=\"prediction\")\n",
        "\n",
        "# Calculer l'AUC (Area Under Curve)\n",
        "auc = evaluator.evaluate(predictions)\n",
        "print(f\"AUC: {auc}\")\n",
        "\n",
        "\n",
        "model.write().overwrite().save(\"decision_tree_model_diabetes\")\n"
      ],
      "metadata": {
        "colab": {
          "base_uri": "https://localhost:8080/"
        },
        "id": "6M5sKTgdquwu",
        "outputId": "d756038e-25d0-44b7-fb46-a72d6dbe3e82"
      },
      "execution_count": 5,
      "outputs": [
        {
          "output_type": "stream",
          "name": "stdout",
          "text": [
            "+-----------+-------+-------------+-------------+-------+----+------------------------+---+-------+\n",
            "|Pregnancies|Glucose|BloodPressure|SkinThickness|Insulin| BMI|DiabetesPedigreeFunction|Age|Outcome|\n",
            "+-----------+-------+-------------+-------------+-------+----+------------------------+---+-------+\n",
            "|          0|     57|           60|            0|      0|21.7|                   0.735| 67|      0|\n",
            "|          0|     73|            0|            0|      0|21.1|                   0.342| 25|      0|\n",
            "|          0|     74|           52|           10|     36|27.8|                   0.269| 22|      0|\n",
            "|          0|     84|           64|           22|     66|35.8|                   0.545| 21|      0|\n",
            "|          0|     84|           82|           31|    125|38.2|                   0.233| 23|      0|\n",
            "+-----------+-------+-------------+-------------+-------+----+------------------------+---+-------+\n",
            "only showing top 5 rows\n",
            "\n",
            "+----------+-------+--------------------+\n",
            "|prediction|Outcome|            features|\n",
            "+----------+-------+--------------------+\n",
            "|       0.0|      0|(8,[1,5,6,7],[73....|\n",
            "|       0.0|      0|[0.0,84.0,82.0,31...|\n",
            "|       0.0|      0|[0.0,102.0,64.0,4...|\n",
            "|       0.0|      0|[0.0,102.0,86.0,1...|\n",
            "|       0.0|      0|[0.0,104.0,64.0,2...|\n",
            "+----------+-------+--------------------+\n",
            "only showing top 5 rows\n",
            "\n",
            "AUC: 0.8053743398570985\n"
          ]
        }
      ]
    },
    {
      "cell_type": "markdown",
      "source": [
        "#Séparation des caractéristiques et des résultats à partir d'un jeu de données de diabète avec PySpark"
      ],
      "metadata": {
        "id": "TAMNBePlLYyG"
      }
    },
    {
      "cell_type": "code",
      "source": [
        "from pyspark.sql import SparkSession\n",
        "\n",
        "# Créer une session Spark\n",
        "spark = SparkSession.builder.appName(\"SplitOutcome\").getOrCreate()\n",
        "\n",
        "# Charger le fichier CSV contenant l'échantillon de données\n",
        "data = spark.read.csv(\"/content/drive/MyDrive/diabetes_sample_20.csv\", header=True, inferSchema=True)\n",
        "\n",
        "# Sélectionner uniquement la colonne Outcome\n",
        "outcome_data = data.select(\"Outcome\")\n",
        "\n",
        "# Sélectionner toutes les autres colonnes sauf Outcome\n",
        "features_data = data.drop(\"Outcome\")\n",
        "\n",
        "# Sauvegarder la colonne Outcome dans un fichier CSV\n",
        "outcome_data.write.csv(\"/content/drive/MyDrive/outcome_data.csv\", header=True, mode=\"overwrite\")\n",
        "\n",
        "# Sauvegarder les autres entrées (features) dans un autre fichier CSV\n",
        "features_data.write.csv(\"/content/drive/MyDrive/features_data.csv\", header=True, mode=\"overwrite\")\n",
        "\n",
        "# Afficher les premières lignes pour vérifier\n",
        "outcome_data.show(5)\n",
        "features_data.show(5)\n"
      ],
      "metadata": {
        "colab": {
          "base_uri": "https://localhost:8080/"
        },
        "id": "uQrfkQ3_qzv0",
        "outputId": "fef58a36-72d5-41d7-c53b-dafb53f9d1f9"
      },
      "execution_count": 6,
      "outputs": [
        {
          "output_type": "stream",
          "name": "stdout",
          "text": [
            "+-------+\n",
            "|Outcome|\n",
            "+-------+\n",
            "|      0|\n",
            "|      0|\n",
            "|      0|\n",
            "|      0|\n",
            "|      0|\n",
            "+-------+\n",
            "only showing top 5 rows\n",
            "\n",
            "+-----------+-------+-------------+-------------+-------+----+------------------------+---+\n",
            "|Pregnancies|Glucose|BloodPressure|SkinThickness|Insulin| BMI|DiabetesPedigreeFunction|Age|\n",
            "+-----------+-------+-------------+-------------+-------+----+------------------------+---+\n",
            "|          0|     67|           76|            0|      0|45.3|                   0.194| 46|\n",
            "|          0|     78|           88|           29|     40|36.9|                   0.434| 21|\n",
            "|          0|    100|           70|           26|     50|30.8|                   0.597| 21|\n",
            "|          0|    101|           64|           17|      0|21.0|                   0.252| 21|\n",
            "|          0|    101|           65|           28|      0|24.6|                   0.237| 22|\n",
            "+-----------+-------+-------------+-------------+-------+----+------------------------+---+\n",
            "only showing top 5 rows\n",
            "\n"
          ]
        }
      ]
    },
    {
      "cell_type": "markdown",
      "source": [
        "#Application d'un modèle de forêt aléatoire pour la prédiction sur des données de diabète avec PySpark\n",
        "parti de validation"
      ],
      "metadata": {
        "id": "lKprMrSxLngt"
      }
    },
    {
      "cell_type": "code",
      "source": [
        "from pyspark.sql import SparkSession\n",
        "from pyspark.ml.classification import RandomForestClassificationModel\n",
        "from pyspark.ml.feature import VectorAssembler\n",
        "from pyspark.ml.linalg import Vectors\n",
        "from pyspark.sql import Row\n",
        "\n",
        "# Créer une session Spark\n",
        "spark = SparkSession.builder.appName(\"ModelTesting\").getOrCreate()\n",
        "\n",
        "# Charger les données d'entrée (features) depuis le fichier CSV\n",
        "features_data = spark.read.csv(\"/content/drive/MyDrive/features_data.csv\", header=True, inferSchema=True)\n",
        "\n",
        "# Vérifier le schéma des données d'entrée pour s'assurer que tout est correct\n",
        "features_data.printSchema()\n",
        "\n",
        "# Appliquer le modèle directement aux données\n",
        "assembler = VectorAssembler(\n",
        "    inputCols=[\"Pregnancies\", \"Glucose\", \"BloodPressure\", \"SkinThickness\", \"Insulin\",\n",
        "               \"BMI\", \"DiabetesPedigreeFunction\", \"Age\"],\n",
        "    outputCol=\"feature\"\n",
        ")\n",
        "\n",
        "# Appliquer le VectorAssembler pour transformer les données en un vecteur de caractéristiques\n",
        "assembled_data = assembler.transform(features_data)\n",
        "\n",
        "# Appliquer le modèle pour obtenir les prédictions\n",
        "predictions = model.transform(assembled_data)\n",
        "\n",
        "predictions_result = predictions.select(\"prediction\")\n",
        "\n",
        "# Afficher les premières lignes des prédictions\n",
        "predictions_result.show()\n",
        "\n",
        "# Sauvegarder les résultats dans un fichier CSV\n",
        "predictions_result.write.csv(\"/content/drive/MyDrive/predictions_data.csv\", header=True, mode=\"overwrite\")\n"
      ],
      "metadata": {
        "colab": {
          "base_uri": "https://localhost:8080/"
        },
        "id": "K-U78tzpq2xx",
        "outputId": "153c17ca-b0e0-49b3-9972-1a2b0d36919a"
      },
      "execution_count": 7,
      "outputs": [
        {
          "output_type": "stream",
          "name": "stdout",
          "text": [
            "root\n",
            " |-- Pregnancies: integer (nullable = true)\n",
            " |-- Glucose: integer (nullable = true)\n",
            " |-- BloodPressure: integer (nullable = true)\n",
            " |-- SkinThickness: integer (nullable = true)\n",
            " |-- Insulin: integer (nullable = true)\n",
            " |-- BMI: double (nullable = true)\n",
            " |-- DiabetesPedigreeFunction: double (nullable = true)\n",
            " |-- Age: integer (nullable = true)\n",
            "\n",
            "+----------+\n",
            "|prediction|\n",
            "+----------+\n",
            "|       0.0|\n",
            "|       0.0|\n",
            "|       0.0|\n",
            "|       0.0|\n",
            "|       0.0|\n",
            "|       0.0|\n",
            "|       0.0|\n",
            "|       0.0|\n",
            "|       0.0|\n",
            "|       0.0|\n",
            "|       0.0|\n",
            "|       0.0|\n",
            "|       0.0|\n",
            "|       1.0|\n",
            "|       0.0|\n",
            "|       0.0|\n",
            "|       1.0|\n",
            "|       0.0|\n",
            "|       0.0|\n",
            "|       0.0|\n",
            "+----------+\n",
            "only showing top 20 rows\n",
            "\n"
          ]
        }
      ]
    },
    {
      "cell_type": "markdown",
      "source": [
        "# Évaluation des performances d'un modèle de classification avec PySpark"
      ],
      "metadata": {
        "id": "Vo4DJTAHL3zo"
      }
    },
    {
      "cell_type": "code",
      "source": [
        "from pyspark.sql import SparkSession\n",
        "from pyspark.sql.functions import monotonically_increasing_id\n",
        "\n",
        "# Initialiser Spark\n",
        "spark = SparkSession.builder.appName(\"MetricsCalculation\").getOrCreate()\n",
        "\n",
        "# Charger les données\n",
        "predictions_df = spark.read.csv(\"/content/drive/MyDrive/predictions_data.csv\", header=True, inferSchema=True)\n",
        "outcome_df = spark.read.csv(\"/content/drive/MyDrive/outcome_data.csv\", header=True, inferSchema=True)\n",
        "\n",
        "# Ajouter un identifiant unique pour aligner les deux DataFrames\n",
        "predictions_df = predictions_df.withColumn(\"id\", monotonically_increasing_id())\n",
        "outcome_df = outcome_df.withColumn(\"id\", monotonically_increasing_id())\n",
        "\n",
        "# Combiner les deux DataFrames\n",
        "comparison_df = predictions_df.join(outcome_df, on=\"id\", how=\"inner\").drop(\"id\")\n",
        "comparison_df.show()\n",
        "from pyspark.sql.functions import col\n",
        "\n",
        "# Ajouter une colonne pour comparer les prédictions et les cibles\n",
        "comparison_df = comparison_df.withColumn(\n",
        "    \"is_correct\", (col(\"prediction\") == col(\"Outcome\")).cast(\"integer\")\n",
        ")\n",
        "\n",
        "# Taux d'erreur\n",
        "error_rate = 1 - (comparison_df.groupBy().sum(\"is_correct\").first()[0] / comparison_df.count())\n",
        "print(f\"Taux d'erreur: {error_rate:.2f}\")\n",
        "from pyspark.sql.functions import when, col\n",
        "\n",
        "# Calcul des métriques\n",
        "comparison_df = comparison_df.withColumn(\n",
        "    \"TP\", when((col(\"prediction\") == 1) & (col(\"Outcome\") == 1), 1).otherwise(0)\n",
        ").withColumn(\n",
        "    \"FP\", when((col(\"prediction\") == 1) & (col(\"Outcome\") == 0), 1).otherwise(0)\n",
        ").withColumn(\n",
        "    \"FN\", when((col(\"prediction\") == 0) & (col(\"Outcome\") == 1), 1).otherwise(0)\n",
        ").withColumn(\n",
        "    \"TN\", when((col(\"prediction\") == 0) & (col(\"Outcome\") == 0), 1).otherwise(0)\n",
        ")\n",
        "\n",
        "# Somme des métriques\n",
        "metrics = comparison_df.groupBy().sum(\"TP\", \"FP\", \"FN\", \"TN\").first()\n",
        "TP, FP, FN, TN = metrics[\"sum(TP)\"], metrics[\"sum(FP)\"], metrics[\"sum(FN)\"], metrics[\"sum(TN)\"]\n",
        "\n",
        "# Précision, rappel et F1-score\n",
        "precision = TP / (TP + FP) if (TP + FP) > 0 else 0\n",
        "recall = TP / (TP + FN) if (TP + FN) > 0 else 0\n",
        "f1_score = 2 * (precision * recall) / (precision + recall) if (precision + recall) > 0 else 0\n",
        "\n",
        "print(f\"Précision: {precision:.2f}\")\n",
        "print(f\"Rappel: {recall:.2f}\")\n",
        "print(f\"F1-Score: {f1_score:.2f}\")\n",
        "\n"
      ],
      "metadata": {
        "colab": {
          "base_uri": "https://localhost:8080/"
        },
        "id": "nUiBSF5_q6EG",
        "outputId": "2b072eba-ac82-4fc9-fdd3-2f4048dfd69f"
      },
      "execution_count": 8,
      "outputs": [
        {
          "output_type": "stream",
          "name": "stdout",
          "text": [
            "+----------+-------+\n",
            "|prediction|Outcome|\n",
            "+----------+-------+\n",
            "|       0.0|      0|\n",
            "|       0.0|      0|\n",
            "|       0.0|      0|\n",
            "|       0.0|      0|\n",
            "|       0.0|      0|\n",
            "|       0.0|      0|\n",
            "|       0.0|      0|\n",
            "|       0.0|      0|\n",
            "|       0.0|      0|\n",
            "|       0.0|      0|\n",
            "|       0.0|      0|\n",
            "|       0.0|      0|\n",
            "|       0.0|      0|\n",
            "|       1.0|      1|\n",
            "|       0.0|      0|\n",
            "|       0.0|      0|\n",
            "|       1.0|      1|\n",
            "|       0.0|      1|\n",
            "|       0.0|      1|\n",
            "|       0.0|      0|\n",
            "+----------+-------+\n",
            "only showing top 20 rows\n",
            "\n",
            "Taux d'erreur: 0.28\n",
            "Précision: 0.63\n",
            "Rappel: 0.62\n",
            "F1-Score: 0.62\n"
          ]
        }
      ]
    },
    {
      "cell_type": "markdown",
      "source": [
        "#chatboot\n",
        "Un chatboot pour utiliser le modéle avec des nouvaux données\n"
      ],
      "metadata": {
        "id": "O7VK_x1wzBv1"
      }
    },
    {
      "cell_type": "code",
      "source": [
        "# Importer les bibliothèques nécessaires\n",
        "from pyspark.sql import SparkSession\n",
        "from pyspark.ml import PipelineModel\n",
        "\n",
        "# Initialisation de Spark\n",
        "spark = SparkSession.builder.appName(\"DiabetesChatbot\").getOrCreate()\n",
        "\n",
        "# Charger le modèle sauvegardé\n",
        "model = PipelineModel.load(\"decision_tree_model_diabetes\")\n",
        "\n",
        "# Fonction de prédiction\n",
        "def predict_diabetes(input_data):\n",
        "    # Préparer les données pour Spark\n",
        "    data = {\n",
        "        \"Pregnancies\": int(input_data[0]),\n",
        "        \"Glucose\": float(input_data[1]),\n",
        "        \"BloodPressure\": float(input_data[2]),\n",
        "        \"SkinThickness\": float(input_data[3]),\n",
        "        \"Insulin\": float(input_data[4]),\n",
        "        \"BMI\": float(input_data[5]),\n",
        "        \"DiabetesPedigreeFunction\": float(input_data[6]),\n",
        "        \"Age\": int(input_data[7])\n",
        "    }\n",
        "    # Créer un DataFrame Spark\n",
        "    spark_df = spark.createDataFrame([data])\n",
        "\n",
        "    # Appliquer le modèle pour effectuer la prédiction\n",
        "    predictions = model.transform(spark_df)\n",
        "    result = predictions.collect()[0]['prediction']\n",
        "\n",
        "    return \"Diabétique\" if result == 1 else \"Non diabétique\"\n",
        "\n",
        "# Chatbot interactif\n",
        "def chatbot():\n",
        "    print(\"Bonjour ! Bienvenue sur le chatbot de prédiction du diabète.\")\n",
        "    print(\"Veuillez entrer les données suivantes séparées par des virgules :\")\n",
        "    print(\"Pregnancies, Glucose, BloodPressure, SkinThickness, Insulin, BMI, DiabetesPedigreeFunction, Age\")\n",
        "\n",
        "    while True:\n",
        "        user_input = input(\"Vos données (ou tapez 'quit' pour quitter) : \")\n",
        "\n",
        "        if user_input.lower() == 'quit':\n",
        "            print(\"Merci d'avoir utilisé le chatbot. À bientôt !\")\n",
        "            break\n",
        "\n",
        "        try:\n",
        "            # Transformer l'entrée utilisateur en liste\n",
        "            input_data = user_input.split(\",\")\n",
        "            if len(input_data) != 8:\n",
        "                print(\"Erreur : Veuillez entrer exactement 8 valeurs.\")\n",
        "                continue\n",
        "\n",
        "            # Prédiction\n",
        "            result = predict_diabetes(input_data)\n",
        "            print(f\"Résultat : {result}\")\n",
        "        except Exception as e:\n",
        "            print(f\"Une erreur est survenue : {e}\")\n",
        "\n",
        "# Exécuter le chatbot\n",
        "if __name__ == \"__main__\":\n",
        "    chatbot()\n"
      ],
      "metadata": {
        "colab": {
          "base_uri": "https://localhost:8080/"
        },
        "id": "EWhaAkSRviCo",
        "outputId": "3e43cfc0-7108-45c5-86b2-6287da79c001"
      },
      "execution_count": 18,
      "outputs": [
        {
          "output_type": "stream",
          "name": "stdout",
          "text": [
            "Bonjour ! Bienvenue sur le chatbot de prédiction du diabète.\n",
            "Veuillez entrer les données suivantes séparées par des virgules :\n",
            "Pregnancies, Glucose, BloodPressure, SkinThickness, Insulin, BMI, DiabetesPedigreeFunction, Age\n",
            "Vos données (ou tapez 'quit' pour quitter) : 0,67,76,0,0,45.3,0.194,46\n",
            "Résultat : Non diabétique\n",
            "Vos données (ou tapez 'quit' pour quitter) : 1,50,80,0,1,52,0.122,25\n",
            "Résultat : Diabétique\n",
            "Vos données (ou tapez 'quit' pour quitter) : quit\n",
            "Merci d'avoir utilisé le chatbot. À bientôt !\n"
          ]
        }
      ]
    },
    {
      "cell_type": "markdown",
      "source": [
        "#télécharger le modèle  avec PySpark sur votre machine locale"
      ],
      "metadata": {
        "id": "WT35QDnnL580"
      }
    },
    {
      "cell_type": "code",
      "source": [
        "!ls -l decision_tree_model_diabetes\n"
      ],
      "metadata": {
        "colab": {
          "base_uri": "https://localhost:8080/"
        },
        "id": "eoOCiIBYq9hl",
        "outputId": "97890c30-9f47-4057-e04a-cfa7be2a90e1"
      },
      "execution_count": null,
      "outputs": [
        {
          "output_type": "stream",
          "name": "stdout",
          "text": [
            "total 8\n",
            "drwxr-xr-x 2 root root 4096 Dec  1 10:01 metadata\n",
            "drwxr-xr-x 4 root root 4096 Dec  1 10:01 stages\n"
          ]
        }
      ]
    },
    {
      "cell_type": "code",
      "source": [
        "!zip -r decision_tree_model_diabetes.zip decision_tree_model_diabetes\n"
      ],
      "metadata": {
        "colab": {
          "base_uri": "https://localhost:8080/"
        },
        "id": "rrJCi4S5s1-r",
        "outputId": "0ffdb4fd-8e25-4edc-d137-f7205a75e3ea"
      },
      "execution_count": null,
      "outputs": [
        {
          "output_type": "stream",
          "name": "stdout",
          "text": [
            "  adding: decision_tree_model_diabetes/ (stored 0%)\n",
            "  adding: decision_tree_model_diabetes/metadata/ (stored 0%)\n",
            "  adding: decision_tree_model_diabetes/metadata/.part-00000.crc (stored 0%)\n",
            "  adding: decision_tree_model_diabetes/metadata/part-00000 (deflated 23%)\n",
            "  adding: decision_tree_model_diabetes/metadata/._SUCCESS.crc (stored 0%)\n",
            "  adding: decision_tree_model_diabetes/metadata/_SUCCESS (stored 0%)\n",
            "  adding: decision_tree_model_diabetes/stages/ (stored 0%)\n",
            "  adding: decision_tree_model_diabetes/stages/0_VectorAssembler_b39a9b85c7d5/ (stored 0%)\n",
            "  adding: decision_tree_model_diabetes/stages/0_VectorAssembler_b39a9b85c7d5/metadata/ (stored 0%)\n",
            "  adding: decision_tree_model_diabetes/stages/0_VectorAssembler_b39a9b85c7d5/metadata/.part-00000.crc (stored 0%)\n",
            "  adding: decision_tree_model_diabetes/stages/0_VectorAssembler_b39a9b85c7d5/metadata/part-00000 (deflated 35%)\n",
            "  adding: decision_tree_model_diabetes/stages/0_VectorAssembler_b39a9b85c7d5/metadata/._SUCCESS.crc (stored 0%)\n",
            "  adding: decision_tree_model_diabetes/stages/0_VectorAssembler_b39a9b85c7d5/metadata/_SUCCESS (stored 0%)\n",
            "  adding: decision_tree_model_diabetes/stages/1_DecisionTreeClassifier_6b147b185ebe/ (stored 0%)\n",
            "  adding: decision_tree_model_diabetes/stages/1_DecisionTreeClassifier_6b147b185ebe/metadata/ (stored 0%)\n",
            "  adding: decision_tree_model_diabetes/stages/1_DecisionTreeClassifier_6b147b185ebe/metadata/.part-00000.crc (stored 0%)\n",
            "  adding: decision_tree_model_diabetes/stages/1_DecisionTreeClassifier_6b147b185ebe/metadata/part-00000 (deflated 46%)\n",
            "  adding: decision_tree_model_diabetes/stages/1_DecisionTreeClassifier_6b147b185ebe/metadata/._SUCCESS.crc (stored 0%)\n",
            "  adding: decision_tree_model_diabetes/stages/1_DecisionTreeClassifier_6b147b185ebe/metadata/_SUCCESS (stored 0%)\n",
            "  adding: decision_tree_model_diabetes/stages/1_DecisionTreeClassifier_6b147b185ebe/data/ (stored 0%)\n",
            "  adding: decision_tree_model_diabetes/stages/1_DecisionTreeClassifier_6b147b185ebe/data/._SUCCESS.crc (stored 0%)\n",
            "  adding: decision_tree_model_diabetes/stages/1_DecisionTreeClassifier_6b147b185ebe/data/.part-00000-0c58c2d7-3300-4df6-974f-58d907c1cb98-c000.snappy.parquet.crc (stored 0%)\n",
            "  adding: decision_tree_model_diabetes/stages/1_DecisionTreeClassifier_6b147b185ebe/data/part-00000-0c58c2d7-3300-4df6-974f-58d907c1cb98-c000.snappy.parquet (deflated 51%)\n",
            "  adding: decision_tree_model_diabetes/stages/1_DecisionTreeClassifier_6b147b185ebe/data/_SUCCESS (stored 0%)\n"
          ]
        }
      ]
    },
    {
      "cell_type": "code",
      "source": [
        "!ls -l decision_tree_model_diabetes.zip\n"
      ],
      "metadata": {
        "colab": {
          "base_uri": "https://localhost:8080/"
        },
        "id": "u6Untj1zs5P4",
        "outputId": "8f449966-04fb-4e2b-e342-cbfe74b7bec6"
      },
      "execution_count": null,
      "outputs": [
        {
          "output_type": "stream",
          "name": "stdout",
          "text": [
            "-rw-r--r-- 1 root root 10262 Dec  1 10:10 decision_tree_model_diabetes.zip\n"
          ]
        }
      ]
    },
    {
      "cell_type": "code",
      "source": [
        "from google.colab import files\n",
        "\n",
        "files.download(\"decision_tree_model_diabetes.zip\")\n"
      ],
      "metadata": {
        "colab": {
          "base_uri": "https://localhost:8080/",
          "height": 17
        },
        "id": "dgW111nss8O-",
        "outputId": "df110d45-3199-4d15-b2f4-65e8560603d9"
      },
      "execution_count": null,
      "outputs": [
        {
          "output_type": "display_data",
          "data": {
            "text/plain": [
              "<IPython.core.display.Javascript object>"
            ],
            "application/javascript": [
              "\n",
              "    async function download(id, filename, size) {\n",
              "      if (!google.colab.kernel.accessAllowed) {\n",
              "        return;\n",
              "      }\n",
              "      const div = document.createElement('div');\n",
              "      const label = document.createElement('label');\n",
              "      label.textContent = `Downloading \"${filename}\": `;\n",
              "      div.appendChild(label);\n",
              "      const progress = document.createElement('progress');\n",
              "      progress.max = size;\n",
              "      div.appendChild(progress);\n",
              "      document.body.appendChild(div);\n",
              "\n",
              "      const buffers = [];\n",
              "      let downloaded = 0;\n",
              "\n",
              "      const channel = await google.colab.kernel.comms.open(id);\n",
              "      // Send a message to notify the kernel that we're ready.\n",
              "      channel.send({})\n",
              "\n",
              "      for await (const message of channel.messages) {\n",
              "        // Send a message to notify the kernel that we're ready.\n",
              "        channel.send({})\n",
              "        if (message.buffers) {\n",
              "          for (const buffer of message.buffers) {\n",
              "            buffers.push(buffer);\n",
              "            downloaded += buffer.byteLength;\n",
              "            progress.value = downloaded;\n",
              "          }\n",
              "        }\n",
              "      }\n",
              "      const blob = new Blob(buffers, {type: 'application/binary'});\n",
              "      const a = document.createElement('a');\n",
              "      a.href = window.URL.createObjectURL(blob);\n",
              "      a.download = filename;\n",
              "      div.appendChild(a);\n",
              "      a.click();\n",
              "      div.remove();\n",
              "    }\n",
              "  "
            ]
          },
          "metadata": {}
        },
        {
          "output_type": "display_data",
          "data": {
            "text/plain": [
              "<IPython.core.display.Javascript object>"
            ],
            "application/javascript": [
              "download(\"download_e9a30e09-13b8-400b-bca1-09e3f0a119a8\", \"decision_tree_model_diabetes.zip\", 10262)"
            ]
          },
          "metadata": {}
        }
      ]
    }
  ]
}